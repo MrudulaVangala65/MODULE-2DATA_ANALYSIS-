{
  "nbformat": 4,
  "nbformat_minor": 0,
  "metadata": {
    "colab": {
      "provenance": []
    },
    "kernelspec": {
      "name": "python3",
      "display_name": "Python 3"
    },
    "language_info": {
      "name": "python"
    }
  },
  "cells": [
    {
      "cell_type": "code",
      "execution_count": 1,
      "metadata": {
        "id": "pj2CD-oPRzih"
      },
      "outputs": [],
      "source": [
        "import numpy as np\n",
        "from keras.models import Sequential\n",
        "from keras.layers import SimpleRNN, Dense, Embedding\n",
        "from keras.preprocessing.text import Tokenizer\n",
        "from keras.preprocessing.sequence import pad_sequences\n",
        "from keras.utils import to_categorical"
      ]
    },
    {
      "cell_type": "code",
      "source": [
        "# Generating some example sequential data\n",
        "sentences = ['I love learning','I love python','I hate school',\n",
        "             'Recurrent Neural Networks are powerful']"
      ],
      "metadata": {
        "id": "hEuzbD-kSSL0"
      },
      "execution_count": 2,
      "outputs": []
    },
    {
      "cell_type": "code",
      "source": [
        "# Tokenizing the words\n",
        "tokenizer = Tokenizer()\n",
        "tokenizer.fit_on_texts(sentences)\n",
        "total_words = len(tokenizer.word_index) + 1"
      ],
      "metadata": {
        "id": "usyYCP8ESTbJ"
      },
      "execution_count": 3,
      "outputs": []
    },
    {
      "cell_type": "code",
      "source": [
        "# Creating input sequences and their corresponding next words\n",
        "input_sequences = []\n",
        "for sentence in sentences:\n",
        "    tokenized_sentence = tokenizer.texts_to_sequences([sentence])[0]\n",
        "    for i in range(1, len(tokenized_sentence)):\n",
        "        n_gram_sequence = tokenized_sentence[:i+1]\n",
        "        input_sequences.append(n_gram_sequence)"
      ],
      "metadata": {
        "id": "JKLAtYSzSW8P"
      },
      "execution_count": 4,
      "outputs": []
    },
    {
      "cell_type": "code",
      "source": [
        "# Padding sequences for consistent input size\n",
        "max_sequence_length = max([len(seq) for seq in input_sequences])\n",
        "input_sequences = pad_sequences(input_sequences, maxlen=max_sequence_length, padding='pre')"
      ],
      "metadata": {
        "id": "UxSgUmxZSepK"
      },
      "execution_count": 5,
      "outputs": []
    },
    {
      "cell_type": "code",
      "source": [
        "# Creating input and output data\n",
        "X, y = input_sequences[:, :-1], input_sequences[:, -1]\n",
        "y = to_categorical(y, num_classes=total_words)"
      ],
      "metadata": {
        "id": "dYcpbWBtSjAq"
      },
      "execution_count": 6,
      "outputs": []
    },
    {
      "cell_type": "code",
      "source": [
        "# Building a simple RNN model\n",
        "model = Sequential()\n",
        "model.add(Embedding(input_dim=total_words, output_dim=50, input_length=max_sequence_length-1))\n",
        "model.add(SimpleRNN(100, return_sequences=True))\n",
        "model.add(SimpleRNN(100))\n",
        "model.add(Dense(total_words, activation='softmax'))"
      ],
      "metadata": {
        "id": "D_NMoT_CSn5W"
      },
      "execution_count": 7,
      "outputs": []
    },
    {
      "cell_type": "code",
      "source": [
        "# Compiling the model\n",
        "model.compile(optimizer='adam', loss='categorical_crossentropy', metrics=['accuracy'])"
      ],
      "metadata": {
        "id": "EFJnr9jHStkL"
      },
      "execution_count": 8,
      "outputs": []
    },
    {
      "cell_type": "code",
      "source": [
        "# Training the model\n",
        "model.fit(X, y, epochs=50, verbose=2)"
      ],
      "metadata": {
        "colab": {
          "base_uri": "https://localhost:8080/"
        },
        "id": "u1pURgY5Sxff",
        "outputId": "78f7a397-0c2c-497a-f667-f00c5487e47c"
      },
      "execution_count": 9,
      "outputs": [
        {
          "output_type": "stream",
          "name": "stdout",
          "text": [
            "Epoch 1/50\n",
            "1/1 - 2s - loss: 2.5310 - accuracy: 0.0000e+00 - 2s/epoch - 2s/step\n",
            "Epoch 2/50\n",
            "1/1 - 0s - loss: 2.4436 - accuracy: 0.2000 - 12ms/epoch - 12ms/step\n",
            "Epoch 3/50\n",
            "1/1 - 0s - loss: 2.3619 - accuracy: 0.2000 - 11ms/epoch - 11ms/step\n",
            "Epoch 4/50\n",
            "1/1 - 0s - loss: 2.2830 - accuracy: 0.3000 - 11ms/epoch - 11ms/step\n",
            "Epoch 5/50\n",
            "1/1 - 0s - loss: 2.2057 - accuracy: 0.3000 - 10ms/epoch - 10ms/step\n",
            "Epoch 6/50\n",
            "1/1 - 0s - loss: 2.1295 - accuracy: 0.3000 - 10ms/epoch - 10ms/step\n",
            "Epoch 7/50\n",
            "1/1 - 0s - loss: 2.0545 - accuracy: 0.3000 - 14ms/epoch - 14ms/step\n",
            "Epoch 8/50\n",
            "1/1 - 0s - loss: 1.9812 - accuracy: 0.3000 - 12ms/epoch - 12ms/step\n",
            "Epoch 9/50\n",
            "1/1 - 0s - loss: 1.9089 - accuracy: 0.3000 - 11ms/epoch - 11ms/step\n",
            "Epoch 10/50\n",
            "1/1 - 0s - loss: 1.8361 - accuracy: 0.4000 - 11ms/epoch - 11ms/step\n",
            "Epoch 11/50\n",
            "1/1 - 0s - loss: 1.7611 - accuracy: 0.4000 - 11ms/epoch - 11ms/step\n",
            "Epoch 12/50\n",
            "1/1 - 0s - loss: 1.6837 - accuracy: 0.4000 - 11ms/epoch - 11ms/step\n",
            "Epoch 13/50\n",
            "1/1 - 0s - loss: 1.6058 - accuracy: 0.4000 - 11ms/epoch - 11ms/step\n",
            "Epoch 14/50\n",
            "1/1 - 0s - loss: 1.5302 - accuracy: 0.4000 - 12ms/epoch - 12ms/step\n",
            "Epoch 15/50\n",
            "1/1 - 0s - loss: 1.4591 - accuracy: 0.6000 - 11ms/epoch - 11ms/step\n",
            "Epoch 16/50\n",
            "1/1 - 0s - loss: 1.3932 - accuracy: 0.6000 - 11ms/epoch - 11ms/step\n",
            "Epoch 17/50\n",
            "1/1 - 0s - loss: 1.3314 - accuracy: 0.6000 - 12ms/epoch - 12ms/step\n",
            "Epoch 18/50\n",
            "1/1 - 0s - loss: 1.2729 - accuracy: 0.6000 - 13ms/epoch - 13ms/step\n",
            "Epoch 19/50\n",
            "1/1 - 0s - loss: 1.2174 - accuracy: 0.6000 - 11ms/epoch - 11ms/step\n",
            "Epoch 20/50\n",
            "1/1 - 0s - loss: 1.1648 - accuracy: 0.6000 - 11ms/epoch - 11ms/step\n",
            "Epoch 21/50\n",
            "1/1 - 0s - loss: 1.1147 - accuracy: 0.6000 - 10ms/epoch - 10ms/step\n",
            "Epoch 22/50\n",
            "1/1 - 0s - loss: 1.0664 - accuracy: 0.7000 - 11ms/epoch - 11ms/step\n",
            "Epoch 23/50\n",
            "1/1 - 0s - loss: 1.0195 - accuracy: 0.7000 - 11ms/epoch - 11ms/step\n",
            "Epoch 24/50\n",
            "1/1 - 0s - loss: 0.9743 - accuracy: 0.7000 - 11ms/epoch - 11ms/step\n",
            "Epoch 25/50\n",
            "1/1 - 0s - loss: 0.9313 - accuracy: 0.7000 - 14ms/epoch - 14ms/step\n",
            "Epoch 26/50\n",
            "1/1 - 0s - loss: 0.8906 - accuracy: 0.7000 - 11ms/epoch - 11ms/step\n",
            "Epoch 27/50\n",
            "1/1 - 0s - loss: 0.8524 - accuracy: 0.7000 - 16ms/epoch - 16ms/step\n",
            "Epoch 28/50\n",
            "1/1 - 0s - loss: 0.8165 - accuracy: 0.7000 - 14ms/epoch - 14ms/step\n",
            "Epoch 29/50\n",
            "1/1 - 0s - loss: 0.7829 - accuracy: 0.7000 - 11ms/epoch - 11ms/step\n",
            "Epoch 30/50\n",
            "1/1 - 0s - loss: 0.7517 - accuracy: 0.8000 - 12ms/epoch - 12ms/step\n",
            "Epoch 31/50\n",
            "1/1 - 0s - loss: 0.7231 - accuracy: 0.8000 - 11ms/epoch - 11ms/step\n",
            "Epoch 32/50\n",
            "1/1 - 0s - loss: 0.6971 - accuracy: 0.8000 - 11ms/epoch - 11ms/step\n",
            "Epoch 33/50\n",
            "1/1 - 0s - loss: 0.6734 - accuracy: 0.8000 - 12ms/epoch - 12ms/step\n",
            "Epoch 34/50\n",
            "1/1 - 0s - loss: 0.6515 - accuracy: 0.8000 - 14ms/epoch - 14ms/step\n",
            "Epoch 35/50\n",
            "1/1 - 0s - loss: 0.6314 - accuracy: 0.8000 - 14ms/epoch - 14ms/step\n",
            "Epoch 36/50\n",
            "1/1 - 0s - loss: 0.6128 - accuracy: 0.8000 - 12ms/epoch - 12ms/step\n",
            "Epoch 37/50\n",
            "1/1 - 0s - loss: 0.5954 - accuracy: 0.8000 - 12ms/epoch - 12ms/step\n",
            "Epoch 38/50\n",
            "1/1 - 0s - loss: 0.5792 - accuracy: 0.8000 - 12ms/epoch - 12ms/step\n",
            "Epoch 39/50\n",
            "1/1 - 0s - loss: 0.5639 - accuracy: 0.8000 - 10ms/epoch - 10ms/step\n",
            "Epoch 40/50\n",
            "1/1 - 0s - loss: 0.5493 - accuracy: 0.8000 - 12ms/epoch - 12ms/step\n",
            "Epoch 41/50\n",
            "1/1 - 0s - loss: 0.5353 - accuracy: 0.8000 - 11ms/epoch - 11ms/step\n",
            "Epoch 42/50\n",
            "1/1 - 0s - loss: 0.5219 - accuracy: 0.8000 - 10ms/epoch - 10ms/step\n",
            "Epoch 43/50\n",
            "1/1 - 0s - loss: 0.5090 - accuracy: 0.8000 - 10ms/epoch - 10ms/step\n",
            "Epoch 44/50\n",
            "1/1 - 0s - loss: 0.4965 - accuracy: 0.8000 - 11ms/epoch - 11ms/step\n",
            "Epoch 45/50\n",
            "1/1 - 0s - loss: 0.4844 - accuracy: 0.8000 - 13ms/epoch - 13ms/step\n",
            "Epoch 46/50\n",
            "1/1 - 0s - loss: 0.4728 - accuracy: 0.8000 - 12ms/epoch - 12ms/step\n",
            "Epoch 47/50\n",
            "1/1 - 0s - loss: 0.4617 - accuracy: 0.8000 - 10ms/epoch - 10ms/step\n",
            "Epoch 48/50\n",
            "1/1 - 0s - loss: 0.4511 - accuracy: 0.8000 - 11ms/epoch - 11ms/step\n",
            "Epoch 49/50\n",
            "1/1 - 0s - loss: 0.4411 - accuracy: 0.8000 - 10ms/epoch - 10ms/step\n",
            "Epoch 50/50\n",
            "1/1 - 0s - loss: 0.4317 - accuracy: 0.8000 - 12ms/epoch - 12ms/step\n"
          ]
        },
        {
          "output_type": "execute_result",
          "data": {
            "text/plain": [
              "<keras.src.callbacks.History at 0x7be744a27460>"
            ]
          },
          "metadata": {},
          "execution_count": 9
        }
      ]
    }
  ]
}